{
 "cells": [
  {
   "cell_type": "markdown",
   "id": "40673f19",
   "metadata": {},
   "source": [
    "### Download images from dataset"
   ]
  },
  {
   "cell_type": "code",
   "execution_count": null,
   "id": "62f6620d9e8ee7b7",
   "metadata": {
    "collapsed": false
   },
   "outputs": [],
   "source": [
    "import requests\n",
    "import os\n",
    "\n",
    "def download_artwork(artwork_name, artist_name):\n",
    "    save_dir = '../data/artworks/'\n",
    "    os.makedirs(save_dir, exist_ok=True)\n",
    "    base_url = \"https://www.wikiart.org/en/api/2/PaintingSearch\"\n",
    "\n",
    "    params = {\n",
    "        'term': f\"{artwork_name} {artist_name}\",\n",
    "    }\n",
    "\n",
    "    response = requests.get(base_url, params=params)\n",
    "    data = response.json()\n",
    "\n",
    "    if 'data' in data and data['data']:\n",
    "        # assume the first result is the desired artwork\n",
    "        artwork = data['data'][0]\n",
    "        image_url = artwork['image']\n",
    "        title = artwork['title']\n",
    "        artist = artwork['artistName']\n",
    "        file_name = f\"{artist} - {title}.jpg\"\n",
    "        file_path = os.path.join(save_dir, file_name)\n",
    "\n",
    "        img_response = requests.get(image_url)\n",
    "        if img_response.status_code == 200:\n",
    "            with open(file_path, 'wb') as file:\n",
    "                file.write(img_response.content)\n",
    "            print(f\"Artwork downloaded successfully: {file_path}\")\n",
    "        else:\n",
    "            print(f\"Failed to download image. Status code: {img_response.status_code}\")\n",
    "    else:\n",
    "        print(\"No artwork found with the given name and artist.\")"
   ]
  },
  {
   "cell_type": "markdown",
   "id": "eea024190e982f0a",
   "metadata": {
    "collapsed": false
   },
   "source": [
    "### Using Google Lens"
   ]
  },
  {
   "cell_type": "code",
   "execution_count": null,
   "id": "d67545aae32bae78",
   "metadata": {
    "collapsed": false
   },
   "outputs": [],
   "source": [
    "import io\n",
    "import os\n",
    "from google.cloud import vision\n",
    "\n",
    "def detect_labels(image_path):\n",
    "    client = vision.ImageAnnotatorClient()\n",
    "\n",
    "    with io.open(image_path, 'rb') as image_file:\n",
    "        content = image_file.read()\n",
    "    image = vision.Image(content=content)\n",
    "\n",
    "    response = client.label_detection(image=image)\n",
    "    labels = response.label_annotations\n",
    "\n",
    "    print('Labels:')\n",
    "    for label in labels:\n",
    "        print(label.description)\n",
    "\n",
    "    if response.error.message:\n",
    "        raise Exception(f'{response.error.message}')\n",
    "\n",
    "os.environ[\"GOOGLE_APPLICATION_CREDENTIALS\"] = \"path/to/your/service-account-file.json\""
   ]
  },
  {
   "cell_type": "code",
   "execution_count": null,
   "id": "5e2ec5b40e177b84",
   "metadata": {
    "collapsed": false
   },
   "outputs": [],
   "source": [
    "image_path = \"path/to/your/drawing.jpg\"\n",
    "detect_labels(image_path)"
   ]
  },
  {
   "cell_type": "code",
   "execution_count": null,
   "id": "c0259881a6f16823",
   "metadata": {
    "collapsed": false
   },
   "outputs": [],
   "source": [
    "import io\n",
    "import os\n",
    "from google.cloud import vision\n",
    "from google.cloud.vision_v1 import types\n",
    "from google.api_core.client_options import ClientOptions\n",
    "\n",
    "def detect_labels(image_path):\n",
    "    client_options = ClientOptions(api_key=api_key)\n",
    "    client = vision.ImageAnnotatorClient(client_options=client_options)\n",
    "\n",
    "    # Load the image from the file\n",
    "    with io.open(image_path, 'rb') as image_file:\n",
    "        content = image_file.read()\n",
    "    image = vision.Image(content=content)\n",
    "\n",
    "    # Perform label detection on the image\n",
    "    response = client.label_detection(image=image)\n",
    "    labels = response.label_annotations\n",
    "\n",
    "    print('Labels:')\n",
    "    for label in labels:\n",
    "        print(label.description)\n",
    "\n",
    "    if response.error.message:\n",
    "        raise Exception(f'{response.error.message}')"
   ]
  },
  {
   "cell_type": "code",
   "execution_count": null,
   "id": "c02fcb36e6426ef8",
   "metadata": {
    "collapsed": false
   },
   "outputs": [],
   "source": [
    "def detect_web_entities(image_path):\n",
    "    client_options = ClientOptions(api_key=api_key)\n",
    "    client = vision.ImageAnnotatorClient(client_options=client_options)\n",
    "\n",
    "    with io.open(image_path, 'rb') as image_file:\n",
    "        content = image_file.read()\n",
    "    image = vision.Image(content=content)\n",
    "\n",
    "    response = client.web_detection(image=image)\n",
    "    web_detection = response.web_detection\n",
    "\n",
    "    entities = []\n",
    "    artwork_name = \"\"\n",
    "\n",
    "    print('Web Entities:')\n",
    "    for entity in web_detection.web_entities:\n",
    "        entities.append(entity.description)\n",
    "        print(f'{entity.description} (Score: {entity.score})')\n",
    "\n",
    "    print('Best Guess Labels:')\n",
    "    for label in web_detection.best_guess_labels:\n",
    "        entities.append(label.label)\n",
    "        print(label.label)\n",
    "\n",
    "    if response.error.message:\n",
    "        raise Exception(f'{response.error.message}')\n",
    "    \n",
    "    artwork_name  = web_detection.web_entities[0].description\n",
    "    artist_name_score = web_detection.web_entities[0].score\n",
    "    \n",
    "    entities_txt = \" \".join(entities)\n",
    "    return entities_txt, artwork_name, artist_name_score\n"
   ]
  },
  {
   "cell_type": "code",
   "execution_count": null,
   "id": "1293847659afc97c",
   "metadata": {
    "collapsed": false
   },
   "outputs": [],
   "source": [
    "print(os.listdir(\"../input/images/images/Edgar_Degas/\"))"
   ]
  },
  {
   "cell_type": "code",
   "execution_count": null,
   "id": "3c6cfe1e4c2baab3",
   "metadata": {
    "collapsed": false
   },
   "outputs": [],
   "source": [
    "import matplotlib.pyplot as plt\n",
    "\n",
    "image_path = \"../input/images/images/Vincent_van_Gogh/Vincent_van_Gogh_5.jpg\"\n",
    "img = plt.imread(image_path)\n",
    "plt.imshow(img)\n",
    "\n",
    "image_path = \"../input/images/images/Rembrandt/Rembrandt_151.jpg\"\n",
    "img = plt.imread(image_path)\n",
    "plt.imshow(img)"
   ]
  },
  {
   "cell_type": "code",
   "execution_count": null,
   "id": "14f1c7c153752735",
   "metadata": {
    "collapsed": false
   },
   "outputs": [],
   "source": [
    "print(os.listdir(\"../data/original_artworks\"))"
   ]
  },
  {
   "cell_type": "code",
   "execution_count": null,
   "id": "1357ba6245682fd3",
   "metadata": {
    "collapsed": false
   },
   "outputs": [],
   "source": [
    "# should load this to refresh content of the folder\n",
    "folder_path = os.listdir(\"../data/original_artworks\")\n",
    "folder_path"
   ]
  },
  {
   "cell_type": "code",
   "execution_count": null,
   "id": "827fd49193c8a98d",
   "metadata": {
    "collapsed": false
   },
   "outputs": [],
   "source": [
    "# iterate folder path and calc how many images contain \"Vincent_van_Gogh\"\n",
    "arts_per_artists = {\"Vincent_van_Gogh\": 0, \"Edgar_Degas\": 0, \"Rembrandt\": 0, \"Pablo_Picasso\" : 0 , \"Alfred_Sisley\": 0, \"Titian\": 0, \"Pierre-Auguste_Renoir\": 0, \"Paul_Gauguin\": 0, \"Francisco_Goya\": 0}\n",
    "\n",
    "# iterate all the names of the artworks in the folder and search if name contains the artist name\n",
    "for img_name in folder_path:\n",
    "    if \"Vincent_van_Gogh\" in img_name:\n",
    "        arts_per_artists[\"Vincent_van_Gogh\"] += 1\n",
    "    elif \"Edgar\" in img_name:\n",
    "        arts_per_artists[\"Edgar_Degas\"] += 1\n",
    "    elif \"Rembrandt\" in img_name:\n",
    "        arts_per_artists[\"Rembrandt\"] += 1\n",
    "    elif \"Pablo_Picasso\" in img_name:\n",
    "        arts_per_artists[\"Pablo_Picasso\"] += 1\n",
    "    elif \"Alfred_Sisley\" in img_name:\n",
    "        arts_per_artists[\"Alfred_Sisley\"] += 1\n",
    "    elif \"Titian\" in img_name:\n",
    "        arts_per_artists[\"Titian\"] += 1\n",
    "    elif \"Pierre-Auguste_Renoir\" in img_name:\n",
    "        arts_per_artists[\"Pierre-Auguste_Renoir\"] += 1\n",
    "    elif \"Paul_Gauguin\" in img_name:\n",
    "        arts_per_artists[\"Paul_Gauguin\"] += 1\n",
    "    elif \"Francisco_Goya\" in img_name:\n",
    "        arts_per_artists[\"Francisco_Goya\"] += 1"
   ]
  },
  {
   "cell_type": "code",
   "execution_count": null,
   "id": "2ae496e4c7df2370",
   "metadata": {
    "collapsed": false
   },
   "outputs": [],
   "source": [
    "# print the number of images per artist\n",
    "print(arts_per_artists)\n",
    "print(\"total:\" , sum(arts_per_artists.values()))"
   ]
  },
  {
   "cell_type": "code",
   "execution_count": null,
   "id": "3f8c1500c58f59e",
   "metadata": {
    "collapsed": false
   },
   "outputs": [],
   "source": [
    "# create a csv file eith the following columns: \"artist_name\", \"artwork_name\", \"image_path\", \"google_entities\", \"generated_artwork_name\"\n",
    "import pandas as pd\n",
    "\n",
    "data = []\n",
    "\n",
    "for img_name in folder_path:\n",
    "    artist_name = \"\"\n",
    "    if \"Vincent_van_Gogh\" in img_name:\n",
    "        artist_name = \"Vincent_van_Gogh\"\n",
    "    elif \"Edgar\" in img_name:\n",
    "        artist_name = \"Edgar_Degas\"\n",
    "    elif \"Rembrandt\" in img_name:\n",
    "        artist_name = \"Rembrandt\"\n",
    "    elif \"Pablo_Picasso\" in img_name:\n",
    "        artist_name = \"Pablo_Picasso\"\n",
    "    elif \"Alfred_Sisley\" in img_name:\n",
    "        artist_name = \"Alfred_Sisley\"\n",
    "    elif \"Titian\" in img_name:\n",
    "        artist_name = \"Titian\"\n",
    "    elif \"Pierre-Auguste_Renoir\" in img_name:\n",
    "        artist_name = \"Pierre-Auguste_Renoir\"\n",
    "    elif \"Paul_Gauguin\" in img_name:\n",
    "        artist_name = \"Paul_Gauguin\"\n",
    "    elif \"Francisco_Goya\" in img_name:\n",
    "        artist_name = \"Francisco_Goya\"\n",
    "    data.append([artist_name, img_name, \"\", \"\", \"\", \"\", \"\", \"\"])\n",
    "    \n",
    "# create the dataframe\n",
    "df = pd.DataFrame(data, columns=[\"artist_name\", \"image_path\", \"image_path_named\", \"artwork_name\", \"artwork_score\", \"google_entities\", \"prompt\", \"generated_artwork_name\"])"
   ]
  },
  {
   "cell_type": "code",
   "execution_count": null,
   "id": "ca60b75434281214",
   "metadata": {
    "collapsed": false
   },
   "outputs": [],
   "source": [
    "df.head()\n",
    "df.shape"
   ]
  },
  {
   "cell_type": "code",
   "execution_count": null,
   "id": "8692512428bdc91e",
   "metadata": {
    "collapsed": false
   },
   "outputs": [],
   "source": [
    "def get_artist_name(img_name):\n",
    "    artist_name = \"\"\n",
    "    if \"Vincent_van_Gogh\" in img_name:\n",
    "        artist_name = \"Vincent_van_Gogh\"\n",
    "    elif \"Edgar\" in img_name:\n",
    "        artist_name = \"Edgar_Degas\"\n",
    "    elif \"Rembrandt\" in img_name:\n",
    "        artist_name = \"Rembrandt\"\n",
    "    elif \"Pablo_Picasso\" in img_name:\n",
    "        artist_name = \"Pablo_Picasso\"\n",
    "    elif \"Alfred_Sisley\" in img_name:\n",
    "        artist_name = \"Alfred_Sisley\"\n",
    "    elif \"Titian\" in img_name:\n",
    "        artist_name = \"Titian\"\n",
    "    elif \"Pierre-Auguste_Renoir\" in img_name:\n",
    "        artist_name = \"Pierre-Auguste_Renoir\"\n",
    "    elif \"Paul_Gauguin\" in img_name:\n",
    "        artist_name = \"Paul_Gauguin\"\n",
    "    elif \"Francisco_Goya\" in img_name:\n",
    "        artist_name = \"Francisco_Goya\"\n",
    "    return artist_name\n",
    "    "
   ]
  },
  {
   "cell_type": "code",
   "execution_count": null,
   "id": "2b1bc5611d7dd5bf",
   "metadata": {
    "collapsed": false
   },
   "outputs": [],
   "source": [
    "import shutil\n",
    "\n",
    "artwork_named_path = \"../data/original_artworks_named\"\n",
    "folder_path = os.listdir(\"../data/original_artworks\")"
   ]
  },
  {
   "cell_type": "markdown",
   "id": "1040f77dffcfe86c",
   "metadata": {
    "collapsed": false
   },
   "source": [
    "### Attach the artwork name to the image and add to the dataframe"
   ]
  },
  {
   "cell_type": "code",
   "execution_count": null,
   "id": "d8e8bd2f77c7fba3",
   "metadata": {
    "collapsed": false
   },
   "outputs": [],
   "source": [
    "counter = 0\n",
    "start_counter = 204\n",
    "for img_name in folder_path:\n",
    "    if counter < start_counter:\n",
    "        counter += 1\n",
    "        continue\n",
    "    artist_name = get_artist_name(img_name)\n",
    "    print(\"artist: \", artist_name, \" img_path: \", f\"../data/original_artworks/{img_name}\")\n",
    "    img_path = f\"../data/original_artworks/{img_name}\"\n",
    "\n",
    "    img = plt.imread(img_path)\n",
    "    plt.imshow(img)\n",
    "    web_ent_txt, art_name, art_name_score = detect_web_entities(img_path)\n",
    "    print(\"artist: \", artist_name, \" img_path: \", img_path, \" web_ent: \", web_ent_txt, \" art_name: \", art_name)\n",
    "    \n",
    "    # change spaces to _ in the artwork name\n",
    "    art_name = art_name.replace(\" \", \"_\")\n",
    "\n",
    "    # if art_name already exists in the folder, add a number to the end of the name\n",
    "    if os.path.exists(f\"{artwork_named_path}/{artist_name}_{art_name}.jpg\"):\n",
    "        art_name = f\"{art_name}_{counter}\"\n",
    "        \n",
    "    # remove from art_name the following characters: /, \\, :, *, ?, \", <, >, |, \\n\n",
    "    art_name = art_name.replace(\"/\", \"\")\n",
    "    art_name = art_name.replace(\"\\\\\", \"\")\n",
    "    art_name = art_name.replace(\":\", \"\")\n",
    "    art_name = art_name.replace(\"*\", \"\")\n",
    "    art_name = art_name.replace(\"?\", \"\")\n",
    "    art_name = art_name.replace(\"\\\"\", \"\")\n",
    "    art_name = art_name.replace(\"<\", \"\")\n",
    "    art_name = art_name.replace(\">\", \"\")\n",
    "    art_name = art_name.replace(\"|\", \"\")\n",
    "    art_name = art_name.replace(\"\\n\", \"\")\n",
    "    \n",
    "\n",
    "   # copy the image to the new folder but don't delete the old one\n",
    "    new_img_path = f\"{artwork_named_path}/{artist_name}_{art_name}.jpg\"\n",
    "    shutil.copy(img_path, new_img_path)\n",
    "    print(\"---------------------------------------\")\n",
    "    print(\"img_path: \", image_path, \"art name: \", art_name, \"art name score: \", art_name_score,\n",
    "          \"img_name: \", img_name, \"new_img_path: \", new_img_path)\n",
    "    \n",
    "    # save the data to the dataframe - change the image path to the new path\n",
    "    df.loc[df[\"image_path\"] == img_name, \"google_entities\"] = web_ent_txt\n",
    "    df.loc[df[\"image_path\"] == img_name, \"artwork_name\"] = art_name\n",
    "    df.loc[df[\"image_path\"] == img_name, \"artwork_score\"] = art_name_score\n",
    "    df.loc[df[\"image_path\"] == img_name, \"image_path_named\"] = f\"{artwork_named_path}/{artist_name}_{art_name}.jpg\"\n",
    "\n",
    "    print(\"===================\" , counter ,\"===================\")\n",
    "    counter += 1"
   ]
  },
  {
   "cell_type": "code",
   "execution_count": null,
   "id": "6f81eede05f54937",
   "metadata": {
    "collapsed": false
   },
   "outputs": [],
   "source": [
    "df.head(10)"
   ]
  },
  {
   "cell_type": "code",
   "execution_count": null,
   "id": "93f3f4a2c45a4999",
   "metadata": {
    "collapsed": false
   },
   "outputs": [],
   "source": [
    "# save the dataframe to a csv file\n",
    "# df.to_csv(\"../data/artworks_data.csv\", index=False)"
   ]
  }
 ],
 "metadata": {
  "kernelspec": {
   "display_name": "Python 3",
   "language": "python",
   "name": "python3"
  },
  "language_info": {
   "codemirror_mode": {
    "name": "ipython",
    "version": 2
   },
   "file_extension": ".py",
   "mimetype": "text/x-python",
   "name": "python",
   "nbconvert_exporter": "python",
   "pygments_lexer": "ipython2",
   "version": "2.7.6"
  }
 },
 "nbformat": 4,
 "nbformat_minor": 5
}
