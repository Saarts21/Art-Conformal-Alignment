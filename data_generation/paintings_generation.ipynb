{
 "cells": [
  {
   "cell_type": "code",
   "execution_count": 47,
   "id": "initial_id",
   "metadata": {
    "ExecuteTime": {
     "end_time": "2024-08-13T18:04:00.519431Z",
     "start_time": "2024-08-13T18:04:00.497909Z"
    },
    "collapsed": true
   },
   "outputs": [],
   "source": [
    "import openai\n",
    "import matplotlib.pyplot as plt\n",
    "import pandas as pd\n",
    "import requests\n",
    "from PIL import Image # for converting the webp image to jpeg\n",
    "import time, glob"
   ]
  },
  {
   "cell_type": "code",
   "execution_count": null,
   "id": "e23445fe557fd017",
   "metadata": {
    "ExecuteTime": {
     "end_time": "2024-08-11T20:26:08.520082Z",
     "start_time": "2024-08-11T20:26:07.814327Z"
    },
    "collapsed": false
   },
   "outputs": [],
   "source": [
    "models = openai.Model.list()\n",
    "models"
   ]
  },
  {
   "cell_type": "code",
   "execution_count": null,
   "id": "302399f82bdfea00",
   "metadata": {
    "ExecuteTime": {
     "end_time": "2024-08-09T12:12:04.772296Z",
     "start_time": "2024-08-09T12:11:49.555552Z"
    },
    "collapsed": false
   },
   "outputs": [],
   "source": [
    "image_response = openai.Image.create(\n",
    "        prompt=\"Create a vibrant and impressionistic scene titled 'The Flowering Orchard,' inspired by Van Gogh's style. The composition should feature a colorful orchard in full bloom, showcasing various flowering trees, particularly plum trees, with abundant pink and white blossoms. Include a picturesque view of Arles in the background, capturing the essence of a serene spring day. The sky should be a brilliant blue, and the foreground should be filled with lush greenery and the playful colors of flowers, creating a lively and inviting atmosphere. The overall mood should evoke the beauty and tranquility of nature in springtime.\",\n",
    "        n=1,\n",
    "        size=\"1024x1024\")\n",
    "    \n",
    "image_url = image_response['data'][0]['url']\n",
    "print(\"Generated image URL: \", image_url)\n",
    "\n",
    "response = requests.get(image_url)\n",
    "\n",
    "if response.status_code == 200:\n",
    "    with open(\"generated_image.png\", 'wb') as file:\n",
    "        file.write(response.content)\n",
    "    print(\"Image successfully saved as 'generated_image.png'\")\n",
    "else:\n",
    "    print(\"Failed to retrieve the image\")\n",
    "    "
   ]
  },
  {
   "cell_type": "code",
   "execution_count": 15,
   "id": "6f01d11446cec0d9",
   "metadata": {
    "ExecuteTime": {
     "end_time": "2024-08-11T20:26:11.795619Z",
     "start_time": "2024-08-11T20:26:11.783562Z"
    },
    "collapsed": false
   },
   "outputs": [],
   "source": [
    "path_gen = \"../data/artwork_gen_dalle\"\n",
    "path_orig = \"../data/original_artworks_named\"\n",
    "\n",
    "df = pd.read_csv(\"../data/artworks_data_with_prompts_simple_generated_images.csv\")\n",
    "\n",
    "# how many rows in the dataframe has generated_artwork_name empty\n",
    "len(df) - df['generated_artwork_name'].isnull().sum()"
   ]
  },
  {
   "cell_type": "code",
   "execution_count": null,
   "id": "9b4bab3033a6bde5",
   "metadata": {
    "ExecuteTime": {
     "end_time": "2024-08-11T14:52:12.099543Z",
     "start_time": "2024-08-11T14:52:12.091546Z"
    },
    "collapsed": false
   },
   "outputs": [],
   "source": [
    "df.at[100, 'generated_artwork_name']"
   ]
  },
  {
   "cell_type": "code",
   "execution_count": null,
   "id": "5096766a809c1629",
   "metadata": {
    "ExecuteTime": {
     "end_time": "2024-08-11T18:35:00.705587Z",
     "start_time": "2024-08-11T18:35:00.675587Z"
    },
    "collapsed": false
   },
   "outputs": [],
   "source": [
    "# sort files in path_gen by creation date\n",
    "path_gen = \"../data/artwork_gen_dalle\"\n",
    "path_orig = \"../data/original_artworks_named\"\n",
    "files = glob.glob(path_gen + \"/*\")\n",
    "len(files)\n"
   ]
  },
  {
   "cell_type": "code",
   "execution_count": null,
   "id": "444c4e3e7c36f206",
   "metadata": {
    "collapsed": false,
    "is_executing": true
   },
   "outputs": [],
   "source": [
    "count = 0\n",
    "curr_t = time.time()\n",
    "for index, row in df.iterrows():\n",
    " \n",
    "    print(\"==========\" , count , \"==========\")\n",
    "    # if generated_artwork_name not empty, skip\n",
    "    if pd.isnull(row['generated_artwork_name']):\n",
    "        print(\"YAY I'm Already generated\")\n",
    "        count += 1\n",
    "        continue\n",
    "\n",
    "    prompt = row['prompt']\n",
    "    # convert \" to ' for the prompt\n",
    "    prompt = prompt.replace('\"', \"'\")\n",
    "    art_name = row['artwork_name']\n",
    "\n",
    "   \n",
    "    img_name = f\"{row[('artwork_name')]}_{row['artist_name']}.png\"\n",
    "    generated_img_path =  f\"../data/artwork_gen_dalle/{img_name}\"\n",
    "    \n",
    "    # search generated image in the path_gen\n",
    "    found = False\n",
    "    for file in files:\n",
    "        if img_name in file:\n",
    "            found = True\n",
    "            break\n",
    "            \n",
    "    if not found:\n",
    "        print(\"Image not found\")\n",
    "        continue\n",
    "        \n",
    "    img_full_path = row[('image_path_named')]\n",
    "    original_img = Image.open(img_full_path)\n",
    "\n",
    "    try :\n",
    "        generated_img = Image.open(generated_img_path)\n",
    "    except Exception as e:\n",
    "        print(\"Error: \", e)\n",
    "        df.at[index, 'generated_artwork_name'] = e\n",
    "        count += 1\n",
    "        continue\n",
    "\n",
    "\n",
    "    # plot\n",
    "    fig, axs = plt.subplots(1, 2, figsize=(12, 6))\n",
    "    \n",
    "    print(prompt)\n",
    "    axs[0].imshow(original_img)\n",
    "    axs[0].set_title(\"Original Image\")\n",
    "    axs[0].axis('off')\n",
    "\n",
    "    axs[1].imshow(generated_img)\n",
    "    axs[1].set_title(\"Generated Image\")\n",
    "    axs[1].axis('off')\n",
    "\n",
    "    plt.show()\n",
    "    \n",
    "    print(\"generated_img_path\", generated_img_path)\n",
    "    df.at[index, 'generated_artwork_name'] = generated_img_path\n",
    "    count += 1"
   ]
  },
  {
   "cell_type": "code",
   "execution_count": null,
   "id": "d2e38278e2176313",
   "metadata": {
    "ExecuteTime": {
     "end_time": "2024-08-11T18:35:34.342947Z",
     "start_time": "2024-08-11T18:35:34.326941Z"
    },
    "collapsed": false
   },
   "outputs": [],
   "source": [
    "df.to_csv(\"../data/artworks_data_with_prompts_simple_generated_images.csv\", index=False)"
   ]
  },
  {
   "cell_type": "code",
   "execution_count": 7,
   "id": "21e97a672dd740f1",
   "metadata": {
    "ExecuteTime": {
     "end_time": "2024-08-11T14:52:47.351765Z",
     "start_time": "2024-08-11T14:52:47.310139Z"
    },
    "collapsed": false
   },
   "outputs": [],
   "source": [
    "df = pd.read_csv(\"../data/artworks_data_with_prompts_simple_generated_images.csv\")\n",
    "df.head()"
   ]
  },
  {
   "cell_type": "code",
   "execution_count": null,
   "id": "5f72e629594ff46",
   "metadata": {
    "ExecuteTime": {
     "end_time": "2024-08-11T22:00:01.071169Z",
     "start_time": "2024-08-11T21:28:39.508208Z"
    },
    "collapsed": false
   },
   "outputs": [],
   "source": [
    "# fill already generated images\n",
    "# iterate over the rows of the dataframe\n",
    "count = 0\n",
    "curr_t = time.time()\n",
    "for index, row in df.iterrows():\n",
    "    # if count < 800:\n",
    "    #     print(\"Skipping row \", count)\n",
    "    #     count += 1\n",
    "    #     continue\n",
    "    # \n",
    "    # if count > 1010:\n",
    "    #     break\n",
    "    \n",
    "    # do only five requests per minute\n",
    "    # if count % 5 == 0:\n",
    "    #     time_rem = 60 - (time.time() - curr_t)\n",
    "    #     print(\"Sleeping for 60 seconds\")\n",
    "    #     time.sleep(0)\n",
    "    #     curr_t = time.time()\n",
    "        \n",
    "    if not pd.isnull(row['generated_artwork_name']):\n",
    "        print(\"YAY I'm Already generated\")\n",
    "        count += 1\n",
    "        continue\n",
    "    \n",
    "    print(\"==========\" , count , \"==========\")\n",
    "    prompt = row['prompt']\n",
    "    # convert \" to ' for the prompt\n",
    "    prompt = prompt.replace('\"', \"'\")\n",
    "    art_name = row['artwork_name']\n",
    "    \n",
    "    try:\n",
    "        image_response = openai.Image.create(\n",
    "            prompt=prompt,\n",
    "            n=1,\n",
    "            size=\"1024x1024\")\n",
    "        image_url = image_response['data'][0]['url']\n",
    "        print(\"Generated image URL: \", image_url)\n",
    "    except Exception as e:\n",
    "        print(\"Error: \", e)\n",
    "        row['generated_artwork_name'] = e\n",
    "        if \"Rate limit\" in str(e):\n",
    "            print(\"Sleeping for 60 seconds\")\n",
    "            time.sleep(60)\n",
    "            try:\n",
    "                image_response = openai.Image.create(\n",
    "                    prompt=prompt,\n",
    "                    n=1,\n",
    "                    size=\"1024x1024\")\n",
    "                image_url = image_response['data'][0]['url']\n",
    "                print(\"Generated image URL: \", image_url)\n",
    "            except Exception as e:\n",
    "                print(\"Error: \", e)\n",
    "                count += 1\n",
    "        \n",
    "        image_response = \"Illegal Prompt\"\n",
    "        continue\n",
    "\n",
    "    \n",
    "    if image_response == \"Illegal Prompt\":\n",
    "        row['generated_artwork_name'] = \"Illegal Prompt\"\n",
    "        count += 1\n",
    "        continue\n",
    "        \n",
    "    # Download the image\n",
    "    response = requests.get(image_url)\n",
    "    \n",
    "    img_generated_path = img_name = f\"{row[('artwork_name')]}_{row['artist_name']}.png\"\n",
    "    generated_img_path =  f\"../data/artwork_gen_dalle/{img_name}\"\n",
    "    # Save the image to a local file\n",
    "    if response.status_code == 200:\n",
    "        with open(generated_img_path, 'wb') as file:\n",
    "            file.write(response.content)\n",
    "            print(\"Image successfully saved\")\n",
    "    else:\n",
    "        print(\"Failed to retrieve the image\")\n",
    "  \n",
    "        \n",
    "    img_full_path = row[('image_path_named')] \n",
    "   \n",
    "    \n",
    "    # plot\n",
    "    original_img = Image.open(img_full_path)\n",
    "    generated_img = Image.open(generated_img_path)\n",
    "\n",
    "    fig, axs = plt.subplots(1, 2, figsize=(12, 6))\n",
    "    \n",
    "    print(prompt)\n",
    "    axs[0].imshow(original_img)\n",
    "    axs[0].set_title(\"Original Image\")\n",
    "    axs[0].axis('off')\n",
    "    \n",
    "    axs[1].imshow(generated_img)\n",
    "    axs[1].set_title(\"Generated Image\")\n",
    "    axs[1].axis('off')\n",
    "\n",
    "    plt.show()\n",
    "    \n",
    "    print(\"generated_img_path\", generated_img_path)\n",
    "    df.at[index, 'generated_artwork_name'] = generated_img_path\n",
    "    count += 1"
   ]
  },
  {
   "cell_type": "code",
   "execution_count": 41,
   "id": "ff23c6c68a7e66ec",
   "metadata": {
    "ExecuteTime": {
     "end_time": "2024-08-11T22:00:57.865746Z",
     "start_time": "2024-08-11T22:00:57.828367Z"
    },
    "collapsed": false
   },
   "outputs": [],
   "source": [
    "df.to_csv(\"../data/artworks_data_with_prompts_simple_generiated_images.csv\", index=False)"
   ]
  },
  {
   "cell_type": "code",
   "execution_count": null,
   "id": "9c908bdfae0ca22e",
   "metadata": {
    "ExecuteTime": {
     "end_time": "2024-08-11T22:01:00.418871Z",
     "start_time": "2024-08-11T22:01:00.396870Z"
    },
    "collapsed": false
   },
   "outputs": [],
   "source": [
    "df['generated_artwork_name'].isnull().sum()"
   ]
  },
  {
   "cell_type": "code",
   "execution_count": null,
   "id": "db6f741c4de222dc",
   "metadata": {
    "ExecuteTime": {
     "end_time": "2024-08-11T21:24:12.752894Z",
     "start_time": "2024-08-11T21:24:12.701367Z"
    },
    "collapsed": false
   },
   "outputs": [],
   "source": [
    "for index, row in df.iterrows():\n",
    "    if pd.isnull(row['generated_artwork_name']):\n",
    "        print(index)"
   ]
  },
  {
   "cell_type": "code",
   "execution_count": null,
   "id": "11ee5dd80f72e119",
   "metadata": {
    "ExecuteTime": {
     "end_time": "2024-08-09T17:46:12.280012Z",
     "start_time": "2024-08-09T17:46:11.404931Z"
    },
    "collapsed": false
   },
   "outputs": [],
   "source": [
    "df.head() "
   ]
  },
  {
   "cell_type": "code",
   "execution_count": null,
   "id": "9d74853c3bdf7eee",
   "metadata": {
    "ExecuteTime": {
     "end_time": "2024-08-12T21:01:54.680185Z",
     "start_time": "2024-08-12T21:01:54.525449Z"
    },
    "collapsed": false
   },
   "outputs": [],
   "source": [
    "path_gen = \"../data/artwork_gen_dalle\"\n",
    "path_orig = \"../data/original_artworks_named\"\n",
    "files = glob.glob(path_gen + \"/*\")\n",
    "len(files)"
   ]
  },
  {
   "cell_type": "code",
   "execution_count": 50,
   "id": "bd699a5e81bc5552",
   "metadata": {
    "ExecuteTime": {
     "end_time": "2024-08-13T18:04:38.371648Z",
     "start_time": "2024-08-13T18:04:38.338576Z"
    },
    "collapsed": false
   },
   "outputs": [],
   "source": [
    "df = pd.read_csv(\"../data/artworks_data_with_prompts_simple_generiated_images.csv\")"
   ]
  },
  {
   "cell_type": "code",
   "execution_count": null,
   "id": "85f2ec82fbe046a9",
   "metadata": {
    "ExecuteTime": {
     "end_time": "2024-08-13T18:04:42.685155Z",
     "start_time": "2024-08-13T18:04:42.672440Z"
    },
    "collapsed": false
   },
   "outputs": [],
   "source": [
    "df.isnull().sum()"
   ]
  },
  {
   "cell_type": "code",
   "execution_count": 52,
   "id": "d1369ee649ffa78f",
   "metadata": {
    "ExecuteTime": {
     "end_time": "2024-08-13T18:05:25.564841Z",
     "start_time": "2024-08-13T18:05:25.473264Z"
    },
    "collapsed": false
   },
   "outputs": [],
   "source": [
    "df.to_csv(\"../data/artworks_data_with_prompts_simple_generated_images.csv\", index=False)"
   ]
  },
  {
   "cell_type": "code",
   "execution_count": null,
   "id": "4371bf92884ae5e4",
   "metadata": {
    "ExecuteTime": {
     "end_time": "2024-08-13T18:05:32.422727Z",
     "start_time": "2024-08-13T18:05:32.409967Z"
    },
    "collapsed": false
   },
   "outputs": [],
   "source": [
    "df.isnull().sum()"
   ]
  },
  {
   "cell_type": "code",
   "execution_count": null,
   "id": "7fdfa4a6f250e879",
   "metadata": {
    "ExecuteTime": {
     "end_time": "2024-08-13T18:08:26.738386Z",
     "start_time": "2024-08-13T18:08:26.646155Z"
    },
    "collapsed": false
   },
   "outputs": [],
   "source": [
    "path_gen = \"../data/artwork_gen_dalle\"\n",
    "path_orig = \"../data/original_artworks_named\"\n",
    "files = glob.glob(path_gen + \"/*\")\n",
    "len(files)"
   ]
  },
  {
   "cell_type": "code",
   "execution_count": null,
   "id": "6374965526d4bd68",
   "metadata": {
    "ExecuteTime": {
     "end_time": "2024-08-13T18:09:12.741665Z",
     "start_time": "2024-08-13T18:09:12.609261Z"
    },
    "collapsed": false
   },
   "outputs": [],
   "source": [
    "# iterate all rows in df \n",
    "ill_prompts = []\n",
    "not_found = []\n",
    "count = 0\n",
    "for index, row in df.iterrows():\n",
    "    \n",
    "    print(\"==========\" , count , \"==========\")\n",
    "    \n",
    "    if pd.isnull(row['generated_artwork_name']):\n",
    "        print(\"couldn't generate\")\n",
    "        ill_prompts.append(index)\n",
    "        count += 1\n",
    "        continue\n",
    "\n",
    "    img_name = row['generated_artwork_name']\n",
    "    \n",
    "    # extract the last part of the path after '/'\n",
    "    img_name = img_name.split(\"/\")[-1]\n",
    "    # print(\"img_name\", img_name)\n",
    "    \n",
    "    # search generated image in the path_gen\n",
    "    found = False\n",
    "    for file in files:\n",
    "        if img_name in file:\n",
    "            found = True\n",
    "            break\n",
    "    \n",
    "    if not found:\n",
    "        print(\"Image not found\")\n",
    "        not_found.append(index)\n",
    "        count += 1\n",
    "        continue\n",
    "        \n",
    "    count += 1"
   ]
  },
  {
   "cell_type": "code",
   "execution_count": null,
   "id": "88f980bce7446cdd",
   "metadata": {
    "ExecuteTime": {
     "end_time": "2024-08-13T18:09:27.111946Z",
     "start_time": "2024-08-13T18:09:27.093693Z"
    },
    "collapsed": false
   },
   "outputs": [],
   "source": [
    "len(ill_prompts)"
   ]
  },
  {
   "cell_type": "code",
   "execution_count": null,
   "id": "ef2bf4d435f58ff5",
   "metadata": {
    "ExecuteTime": {
     "end_time": "2024-08-13T18:09:34.339157Z",
     "start_time": "2024-08-13T18:09:34.324704Z"
    },
    "collapsed": false
   },
   "outputs": [],
   "source": [
    "len(not_found)"
   ]
  }
 ],
 "metadata": {
  "kernelspec": {
   "display_name": "Python 3",
   "language": "python",
   "name": "python3"
  },
  "language_info": {
   "codemirror_mode": {
    "name": "ipython",
    "version": 2
   },
   "file_extension": ".py",
   "mimetype": "text/x-python",
   "name": "python",
   "nbconvert_exporter": "python",
   "pygments_lexer": "ipython2",
   "version": "2.7.6"
  }
 },
 "nbformat": 4,
 "nbformat_minor": 5
}
