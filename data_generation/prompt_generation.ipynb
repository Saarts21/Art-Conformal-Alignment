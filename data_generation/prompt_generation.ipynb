{
 "cells": [
  {
   "cell_type": "code",
   "execution_count": null,
   "id": "initial_id",
   "metadata": {
    "collapsed": true
   },
   "outputs": [],
   "source": [
    "import pandas as pd\n",
    "import numpy as np\n",
    "import openai"
   ]
  },
  {
   "cell_type": "code",
   "execution_count": null,
   "id": "91b57994d4a8c81",
   "metadata": {
    "collapsed": false
   },
   "outputs": [],
   "source": [
    "df = pd.read_csv(\"../data/artworks_data.csv\")\n",
    "df.head()"
   ]
  },
  {
   "cell_type": "code",
   "execution_count": null,
   "id": "73b9c1c29b20418b",
   "metadata": {
    "collapsed": false
   },
   "outputs": [],
   "source": [
    "models = openai.Model.list()\n",
    "\n",
    "# gpt-40-mini usage example\n",
    "response = openai.ChatCompletion.create(\n",
    "    model=\"gpt-4o-mini\",\n",
    "    messages=[\n",
    "        {\"role\": \"system\", \"content\": \"You are a helpful assistant.\"},\n",
    "        {\"role\": \"user\", \"content\": \"Who won the world series in 2020?\"},\n",
    "        {\"role\": \"assistant\", \"content\": \"The Los Angeles Dodgers won the World Series in 2020.\"},\n",
    "        {\"role\": \"user\", \"content\": \"Where was it played?\"}\n",
    "    ]\n",
    ")\n",
    "\n",
    "print(response.choices[0].message['content'])"
   ]
  },
  {
   "cell_type": "code",
   "execution_count": null,
   "id": "c32975084ea4b784",
   "metadata": {
    "collapsed": false
   },
   "outputs": [],
   "source": [
    "count = 0\n",
    "for index, row in df.iterrows():\n",
    "    print(\"=====================\", count, \"=====================\")\n",
    "    img_path = row['image_path']\n",
    "    web_ent = row['google_entities']\n",
    "    msg = web_ent + \" use this input and generate a prompt for dalle 3 to create an image from it keep it short and simple.\"\n",
    "    response = openai.ChatCompletion.create(\n",
    "    model=\"gpt-4o-mini\",\n",
    "    messages=[\n",
    "        {\"role\": \"user\", \"content\": msg}\n",
    "    ])\n",
    "\n",
    "    prompt = \"Draw the painting by \" + row['artist_name'] + \" As following. \" + response['choices'][0]['message']['content']\n",
    "    df.at[index, 'prompt'] = prompt\n",
    "    print(\"web entities: \", web_ent, \"\\n\", \"prompt: \", prompt)\n",
    "    count += 1"
   ]
  },
  {
   "cell_type": "markdown",
   "id": "1d96921ab28997c",
   "metadata": {
    "collapsed": false
   },
   "source": []
  },
  {
   "cell_type": "code",
   "execution_count": null,
   "id": "52fd73caff77cdc2",
   "metadata": {
    "collapsed": false
   },
   "outputs": [],
   "source": [
    "\n",
    "models = openai.Model.list()\n",
    "\n",
    "for model in models['data']:\n",
    "    print(model['id'])\n",
    "    response = openai.ChatCompletion.create(\n",
    "        model=\"gpt-4o-mini\",\n",
    "        messages=[\n",
    "            {\"role\": \"system\", \"content\": \"You are a helpful assistant.\"},\n",
    "            {\"role\": \"user\", \"content\": \"Who won the world series in 2020?\"},\n",
    "            {\"role\": \"assistant\", \"content\": \"The Los Angeles Dodgers won the World Series in 2020.\"},\n",
    "            {\"role\": \"user\", \"content\": \"Where was it played?\"}\n",
    "        ]\n",
    "    )\n",
    "\n",
    "print(response.choices[0].message['content'])"
   ]
  },
  {
   "cell_type": "code",
   "execution_count": null,
   "id": "bd44589fc1b42f54",
   "metadata": {
    "collapsed": false
   },
   "outputs": [],
   "source": [
    "# save the dataframe with the prompts\n",
    "df.to_csv(\"../data/artworks_data_with_prompts_simple.csv\", index=False)"
   ]
  }
 ],
 "metadata": {
  "kernelspec": {
   "display_name": "Python 3",
   "language": "python",
   "name": "python3"
  },
  "language_info": {
   "codemirror_mode": {
    "name": "ipython",
    "version": 2
   },
   "file_extension": ".py",
   "mimetype": "text/x-python",
   "name": "python",
   "nbconvert_exporter": "python",
   "pygments_lexer": "ipython2",
   "version": "2.7.6"
  }
 },
 "nbformat": 4,
 "nbformat_minor": 5
}
